{
 "cells": [
  {
   "cell_type": "code",
   "execution_count": 1,
   "metadata": {},
   "outputs": [],
   "source": [
    "import psycopg2\n",
    "import pandas as pd"
   ]
  },
  {
   "cell_type": "code",
   "execution_count": 8,
   "metadata": {},
   "outputs": [],
   "source": [
    "# connect to the PostgreSQL server\n",
    "conn = psycopg2.connect(\n",
    "    database=\"Dataset\",\n",
    "    user=\"postgres\",\n",
    "    password=\"Georgetown16\",\n",
    "    host=\"database-1.c5vispb5ezxg.us-east-1.rds.amazonaws.com\",\n",
    "    port='5432'\n",
    ")\n",
    "\n",
    "cur = conn.cursor()"
   ]
  },
  {
   "cell_type": "code",
   "execution_count": 10,
   "metadata": {},
   "outputs": [],
   "source": [
    "try:\n",
    "    sql = f\"select * from public.\\\"studentInfoSTG\\\" LIMIT 50\"\n",
    "    print(sql)\n",
    "    cur.execute(sql)\n",
    "    rows = cur.fetchall()\n",
    "    print(rows)\n",
    "    # close communication with the PostgreSQL database server\n",
    "    #cur.close()\n",
    "    # commit the changes\n",
    "except (Exception) as error:\n",
    "    print(error)\n",
    "    cur.execute(\"rollback\")"
   ]
  }
 ],
 "metadata": {
  "kernelspec": {
   "display_name": "Python 3",
   "language": "python",
   "name": "python3"
  },
  "language_info": {
   "codemirror_mode": {
    "name": "ipython",
    "version": 3
   },
   "file_extension": ".py",
   "mimetype": "text/x-python",
   "name": "python",
   "nbconvert_exporter": "python",
   "pygments_lexer": "ipython3",
   "version": "3.7.3"
  }
 },
 "nbformat": 4,
 "nbformat_minor": 2
}
